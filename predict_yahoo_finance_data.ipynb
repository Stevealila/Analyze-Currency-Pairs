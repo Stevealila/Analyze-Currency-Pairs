{
 "cells": [
  {
   "cell_type": "markdown",
   "metadata": {},
   "source": [
    "## Get data"
   ]
  },
  {
   "cell_type": "code",
   "execution_count": 1,
   "metadata": {},
   "outputs": [
    {
     "name": "stdout",
     "output_type": "stream",
     "text": [
      "Warning - Certain functionality \n",
      "             requires requests_html, which is not installed.\n",
      "             \n",
      "             Install using: \n",
      "             pip install requests_html\n",
      "             \n",
      "             After installation, you may have to restart your Python session.\n"
     ]
    }
   ],
   "source": [
    "import time\n",
    "import datetime\n",
    "from yahoo_fin import stock_info as yf\n",
    "\n",
    "def create_dataframe(asset, years_back, interval='1d'):\n",
    "    return yf.get_data(\n",
    "            ticker=asset+'=X', \n",
    "            start_date=(datetime.date.today() - datetime.timedelta(days=int(years_back*366))).strftime('%Y-%m-%d'), \n",
    "            end_date=time.strftime('%Y-%m-%d'), \n",
    "            interval=interval\n",
    "        )\n"
   ]
  },
  {
   "cell_type": "code",
   "execution_count": 2,
   "metadata": {},
   "outputs": [
    {
     "data": {
      "text/html": [
       "<div>\n",
       "<style scoped>\n",
       "    .dataframe tbody tr th:only-of-type {\n",
       "        vertical-align: middle;\n",
       "    }\n",
       "\n",
       "    .dataframe tbody tr th {\n",
       "        vertical-align: top;\n",
       "    }\n",
       "\n",
       "    .dataframe thead th {\n",
       "        text-align: right;\n",
       "    }\n",
       "</style>\n",
       "<table border=\"1\" class=\"dataframe\">\n",
       "  <thead>\n",
       "    <tr style=\"text-align: right;\">\n",
       "      <th></th>\n",
       "      <th>open</th>\n",
       "      <th>high</th>\n",
       "      <th>low</th>\n",
       "      <th>close</th>\n",
       "      <th>adjclose</th>\n",
       "      <th>volume</th>\n",
       "      <th>ticker</th>\n",
       "    </tr>\n",
       "  </thead>\n",
       "  <tbody>\n",
       "    <tr>\n",
       "      <th>2024-08-13</th>\n",
       "      <td>128.000000</td>\n",
       "      <td>128.250000</td>\n",
       "      <td>127.750000</td>\n",
       "      <td>128.000000</td>\n",
       "      <td>128.000000</td>\n",
       "      <td>0.0</td>\n",
       "      <td>USDKES=X</td>\n",
       "    </tr>\n",
       "    <tr>\n",
       "      <th>2024-08-14</th>\n",
       "      <td>128.000000</td>\n",
       "      <td>129.229996</td>\n",
       "      <td>128.000000</td>\n",
       "      <td>128.000000</td>\n",
       "      <td>128.000000</td>\n",
       "      <td>0.0</td>\n",
       "      <td>USDKES=X</td>\n",
       "    </tr>\n",
       "    <tr>\n",
       "      <th>2024-08-15</th>\n",
       "      <td>129.699997</td>\n",
       "      <td>129.699997</td>\n",
       "      <td>127.750000</td>\n",
       "      <td>129.699997</td>\n",
       "      <td>129.699997</td>\n",
       "      <td>0.0</td>\n",
       "      <td>USDKES=X</td>\n",
       "    </tr>\n",
       "    <tr>\n",
       "      <th>2024-08-18</th>\n",
       "      <td>128.000000</td>\n",
       "      <td>128.500000</td>\n",
       "      <td>127.212067</td>\n",
       "      <td>128.000000</td>\n",
       "      <td>128.000000</td>\n",
       "      <td>0.0</td>\n",
       "      <td>USDKES=X</td>\n",
       "    </tr>\n",
       "    <tr>\n",
       "      <th>2024-08-20</th>\n",
       "      <td>128.479996</td>\n",
       "      <td>128.479996</td>\n",
       "      <td>128.229996</td>\n",
       "      <td>128.479996</td>\n",
       "      <td>128.479996</td>\n",
       "      <td>0.0</td>\n",
       "      <td>USDKES=X</td>\n",
       "    </tr>\n",
       "  </tbody>\n",
       "</table>\n",
       "</div>"
      ],
      "text/plain": [
       "                  open        high         low       close    adjclose  \\\n",
       "2024-08-13  128.000000  128.250000  127.750000  128.000000  128.000000   \n",
       "2024-08-14  128.000000  129.229996  128.000000  128.000000  128.000000   \n",
       "2024-08-15  129.699997  129.699997  127.750000  129.699997  129.699997   \n",
       "2024-08-18  128.000000  128.500000  127.212067  128.000000  128.000000   \n",
       "2024-08-20  128.479996  128.479996  128.229996  128.479996  128.479996   \n",
       "\n",
       "            volume    ticker  \n",
       "2024-08-13     0.0  USDKES=X  \n",
       "2024-08-14     0.0  USDKES=X  \n",
       "2024-08-15     0.0  USDKES=X  \n",
       "2024-08-18     0.0  USDKES=X  \n",
       "2024-08-20     0.0  USDKES=X  "
      ]
     },
     "execution_count": 2,
     "metadata": {},
     "output_type": "execute_result"
    }
   ],
   "source": [
    "df = create_dataframe(asset='USDKES', years_back=3)\n",
    "df.tail()"
   ]
  },
  {
   "cell_type": "markdown",
   "metadata": {},
   "source": [
    "## Preprocess the data"
   ]
  },
  {
   "cell_type": "code",
   "execution_count": 3,
   "metadata": {},
   "outputs": [],
   "source": [
    "import numpy as np\n",
    "\n",
    "def preprocess_data(df, days, scaler):\n",
    "    df = df.copy()\n",
    "    df['date'] = df.index\n",
    "    df = df[['close', 'date']]\n",
    "    df.loc[:, 'close'] = scaler.fit_transform(df[['close']])\n",
    "    # Create the 'future' column by shifting 'close' by -days\n",
    "    df['future'] = df['close'].shift(-days)\n",
    "    df.dropna(inplace=True)\n",
    "    return df"
   ]
  },
  {
   "cell_type": "code",
   "execution_count": 4,
   "metadata": {},
   "outputs": [],
   "source": [
    "from collections import deque\n",
    "\n",
    "def create_features_and_target(df, days, scaler):\n",
    "    df = preprocess_data(df, days, scaler)\n",
    "    # Capture the last 'days' number of 'close' values\n",
    "    last_sequence = np.array(df[['close']].tail(days))\n",
    "    sequence_data = []\n",
    "    sequences = deque(maxlen=days)\n",
    "    \n",
    "    # Iterate through the DataFrame to create sequences of 'close' values and corresponding targets\n",
    "    for entry, target in zip(df[['close', 'date']].values, df['future'].values):\n",
    "        sequences.append(entry)\n",
    "        if len(sequences) == days:\n",
    "            sequence_data.append([np.array(sequences), target])\n",
    "    \n",
    "    # Prepare the last sequence by combining the most recent sequences with the last 'days' number of 'close' values\n",
    "    last_sequence = list([s[:len(['close'])] for s in sequences]) + list(last_sequence)\n",
    "    last_sequence = np.array(last_sequence).astype(np.float32)\n",
    "    \n",
    "    X, y = [], []\n",
    "    for seq, target in sequence_data:\n",
    "        X.append(seq)\n",
    "        y.append(target)\n",
    "\n",
    "    features = np.array(X)\n",
    "    # Ensure features only include the 'close' values\n",
    "    features = features[:, :, :len(['close'])].astype(np.float32)\n",
    "    target = np.array(y)\n",
    "\n",
    "    return features, target, last_sequence\n"
   ]
  },
  {
   "cell_type": "markdown",
   "metadata": {},
   "source": [
    "## Train a model"
   ]
  },
  {
   "cell_type": "code",
   "execution_count": 5,
   "metadata": {},
   "outputs": [],
   "source": [
    "from sklearn.model_selection import train_test_split\n",
    "from sklearn.preprocessing import MinMaxScaler\n",
    "\n",
    "scaler = MinMaxScaler()\n",
    "days = 7\n",
    "\n",
    "features, target, last_sequence = create_features_and_target(df, days, scaler)\n",
    "X_train, X_test, y_train, y_test = train_test_split(features, target, test_size=0.2, random_state=3)"
   ]
  },
  {
   "cell_type": "code",
   "execution_count": 6,
   "metadata": {},
   "outputs": [],
   "source": [
    "import tensorflow\n",
    "\n",
    "def train_model(features, target, epochs=100):\n",
    "    model = tensorflow.keras.Sequential([\n",
    "    tensorflow.keras.layers.LSTM(60, return_sequences=True),\n",
    "    tensorflow.keras.layers.Dropout(0.3),\n",
    "    tensorflow.keras.layers.LSTM(120, return_sequences=False),\n",
    "    tensorflow.keras.layers.Dropout(0.3),\n",
    "    tensorflow.keras.layers.Dense(20),\n",
    "    tensorflow.keras.layers.Dense(1),\n",
    "    ])\n",
    "\n",
    "    model.compile(loss='mean_squared_error', optimizer='adam', metrics=['accuracy'])\n",
    "    model.fit(features, target, epochs=epochs, verbose=False)\n",
    "    return model"
   ]
  },
  {
   "cell_type": "code",
   "execution_count": 7,
   "metadata": {},
   "outputs": [],
   "source": [
    "model = train_model(features, target)"
   ]
  },
  {
   "cell_type": "markdown",
   "metadata": {},
   "source": [
    "## Predict prices"
   ]
  },
  {
   "cell_type": "code",
   "execution_count": 8,
   "metadata": {},
   "outputs": [
    {
     "name": "stdout",
     "output_type": "stream",
     "text": [
      "\u001b[1m1/1\u001b[0m \u001b[32m━━━━━━━━━━━━━━━━━━━━\u001b[0m\u001b[37m\u001b[0m \u001b[1m0s\u001b[0m 404ms/step\n"
     ]
    },
    {
     "data": {
      "text/plain": [
       "129.34242"
      ]
     },
     "execution_count": 8,
     "metadata": {},
     "output_type": "execute_result"
    }
   ],
   "source": [
    "last_sequence = last_sequence[-days:]\n",
    "predictions = model.predict(last_sequence)\n",
    "predicted_price = scaler.inverse_transform(predictions)[0][0]\n",
    "predicted_price"
   ]
  }
 ],
 "metadata": {
  "kernelspec": {
   "display_name": "Python 3",
   "language": "python",
   "name": "python3"
  },
  "language_info": {
   "codemirror_mode": {
    "name": "ipython",
    "version": 3
   },
   "file_extension": ".py",
   "mimetype": "text/x-python",
   "name": "python",
   "nbconvert_exporter": "python",
   "pygments_lexer": "ipython3",
   "version": "3.12.3"
  }
 },
 "nbformat": 4,
 "nbformat_minor": 2
}
