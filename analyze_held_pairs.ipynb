{
 "cells": [
  {
   "cell_type": "code",
   "execution_count": 1,
   "id": "27caa24c-2331-4b25-8377-b8bed57cbed2",
   "metadata": {},
   "outputs": [],
   "source": [
    "import MetaTrader5 as mt5\n",
    "from config import MT5_PASSWORD, MT5_LOGIN, MT5_SERVER\n",
    "import pandas as pd"
   ]
  },
  {
   "cell_type": "code",
   "execution_count": 2,
   "id": "5bccbf2b-f1b7-49e6-ac2e-6a9133064147",
   "metadata": {},
   "outputs": [
    {
     "name": "stdout",
     "output_type": "stream",
     "text": [
      "Login successful!\n"
     ]
    }
   ],
   "source": [
    "login_details = { \"login\": MT5_LOGIN, \"password\": MT5_PASSWORD, \"server\": MT5_SERVER }\n",
    "mt5.initialize()\n",
    "logged_in = mt5.login(login_details[\"login\"], login_details[\"password\"], login_details[\"server\"])\n",
    "if logged_in:\n",
    "    print(\"Login successful!\")\n",
    "else:\n",
    "    print(\"Login failed!\")"
   ]
  },
  {
   "cell_type": "code",
   "execution_count": 4,
   "id": "606d9af7-d201-4bab-8096-dc650285d678",
   "metadata": {},
   "outputs": [
    {
     "data": {
      "text/html": [
       "<div>\n",
       "<style scoped>\n",
       "    .dataframe tbody tr th:only-of-type {\n",
       "        vertical-align: middle;\n",
       "    }\n",
       "\n",
       "    .dataframe tbody tr th {\n",
       "        vertical-align: top;\n",
       "    }\n",
       "\n",
       "    .dataframe thead th {\n",
       "        text-align: right;\n",
       "    }\n",
       "</style>\n",
       "<table border=\"1\" class=\"dataframe\">\n",
       "  <thead>\n",
       "    <tr style=\"text-align: right;\">\n",
       "      <th></th>\n",
       "      <th>symbol</th>\n",
       "      <th>stop_loss</th>\n",
       "      <th>take_profit</th>\n",
       "      <th>price_open</th>\n",
       "      <th>price_current</th>\n",
       "      <th>profit</th>\n",
       "    </tr>\n",
       "  </thead>\n",
       "  <tbody>\n",
       "    <tr>\n",
       "      <th>1</th>\n",
       "      <td>USDJPYm</td>\n",
       "      <td>140.00</td>\n",
       "      <td>150.0</td>\n",
       "      <td>145.04400</td>\n",
       "      <td>145.75600</td>\n",
       "      <td>4.88</td>\n",
       "    </tr>\n",
       "    <tr>\n",
       "      <th>4</th>\n",
       "      <td>EURUSDm</td>\n",
       "      <td>1.08</td>\n",
       "      <td>1.1</td>\n",
       "      <td>1.09382</td>\n",
       "      <td>1.09690</td>\n",
       "      <td>3.08</td>\n",
       "    </tr>\n",
       "    <tr>\n",
       "      <th>3</th>\n",
       "      <td>CADJPYm</td>\n",
       "      <td>100.00</td>\n",
       "      <td>115.0</td>\n",
       "      <td>108.57400</td>\n",
       "      <td>108.94400</td>\n",
       "      <td>2.54</td>\n",
       "    </tr>\n",
       "    <tr>\n",
       "      <th>0</th>\n",
       "      <td>USDCADm</td>\n",
       "      <td>1.30</td>\n",
       "      <td>1.5</td>\n",
       "      <td>1.33632</td>\n",
       "      <td>1.33774</td>\n",
       "      <td>1.06</td>\n",
       "    </tr>\n",
       "    <tr>\n",
       "      <th>2</th>\n",
       "      <td>USDNOKm</td>\n",
       "      <td>10.00</td>\n",
       "      <td>12.0</td>\n",
       "      <td>10.37710</td>\n",
       "      <td>10.30098</td>\n",
       "      <td>-7.39</td>\n",
       "    </tr>\n",
       "  </tbody>\n",
       "</table>\n",
       "</div>"
      ],
      "text/plain": [
       "    symbol  stop_loss  take_profit  price_open  price_current  profit\n",
       "1  USDJPYm     140.00        150.0   145.04400      145.75600    4.88\n",
       "4  EURUSDm       1.08          1.1     1.09382        1.09690    3.08\n",
       "3  CADJPYm     100.00        115.0   108.57400      108.94400    2.54\n",
       "0  USDCADm       1.30          1.5     1.33632        1.33774    1.06\n",
       "2  USDNOKm      10.00         12.0    10.37710       10.30098   -7.39"
      ]
     },
     "execution_count": 4,
     "metadata": {},
     "output_type": "execute_result"
    }
   ],
   "source": [
    "positions = mt5.positions_get()\n",
    "df_positions = pd.DataFrame(list(positions), columns=positions[0]._asdict().keys())\n",
    "\n",
    "target_columns = ['symbol',  'sl', 'tp', 'price_open', 'price_current', 'profit']\n",
    "df = df_positions[target_columns]\n",
    "df = df.rename(columns={'sl': 'stop_loss', 'tp': 'take_profit'})\n",
    "df = df.sort_values(by='profit', ascending=False)\n",
    "df"
   ]
  },
  {
   "cell_type": "code",
   "execution_count": null,
   "id": "c8231c0d-5aa7-479a-a5aa-4950cd9e6edc",
   "metadata": {},
   "outputs": [],
   "source": []
  }
 ],
 "metadata": {
  "kernelspec": {
   "display_name": "Python 3 (ipykernel)",
   "language": "python",
   "name": "python3"
  },
  "language_info": {
   "codemirror_mode": {
    "name": "ipython",
    "version": 3
   },
   "file_extension": ".py",
   "mimetype": "text/x-python",
   "name": "python",
   "nbconvert_exporter": "python",
   "pygments_lexer": "ipython3",
   "version": "3.11.5"
  }
 },
 "nbformat": 4,
 "nbformat_minor": 5
}
